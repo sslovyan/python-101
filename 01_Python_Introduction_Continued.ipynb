{
 "cells": [
  {
   "cell_type": "markdown",
   "id": "51480b94-ab7e-40a4-aedb-e28bd7d1980c",
   "metadata": {},
   "source": [
    "# Python Introduction Continued"
   ]
  },
  {
   "cell_type": "markdown",
   "id": "a3a4bed6-3278-469e-9111-263d42263c5f",
   "metadata": {
    "slideshow": {
     "slide_type": "slide"
    },
    "tags": []
   },
   "source": [
    "# Flow control statements\n",
    "\n",
    "Flow control statements are of the follwoing types -\n",
    "1. if\n",
    "2. for\n",
    "3. while\n",
    "4. Break\n",
    "5. Continue"
   ]
  },
  {
   "cell_type": "markdown",
   "id": "0cf6d363-44e7-44fe-82a9-567daca904dc",
   "metadata": {
    "slideshow": {
     "slide_type": "fragment"
    }
   },
   "source": [
    "## If, If-else, If-elif-else"
   ]
  },
  {
   "cell_type": "markdown",
   "id": "62b415b3-5c01-4cd1-a097-b0fc47abbe12",
   "metadata": {
    "slideshow": {
     "slide_type": "fragment"
    }
   },
   "source": [
    "### If:\n",
    "* Consists of `if`, followed by a boolean expression, followed by one or more statements\n",
    "* If the expression holds true, the statements are executed"
   ]
  },
  {
   "cell_type": "code",
   "execution_count": null,
   "id": "76fe88e9-e751-46b3-99a7-248d797768bf",
   "metadata": {
    "ExecuteTime": {
     "end_time": "2018-08-24T00:15:27.853700Z",
     "start_time": "2018-08-24T00:15:27.849657Z"
    },
    "slideshow": {
     "slide_type": "fragment"
    }
   },
   "outputs": [],
   "source": [
    "x = 1\n",
    "if x>2:\n",
    "    print (\"yes!\")"
   ]
  },
  {
   "cell_type": "markdown",
   "id": "6bdc328b-a9d7-487e-9d37-7dab8b1d7642",
   "metadata": {
    "slideshow": {
     "slide_type": "fragment"
    }
   },
   "source": [
    "### If-else:"
   ]
  },
  {
   "cell_type": "markdown",
   "id": "1ec8e929-53d7-498b-9b5b-a62209f57008",
   "metadata": {
    "slideshow": {
     "slide_type": "fragment"
    }
   },
   "source": [
    "* Consists of `if`, followed by a boolean expression, followed by one or more statements;\n",
    "* followed by an `else`, and another set of statements\n",
    "* If the expression holds true, the 1st set of statements are executed\n",
    "* If the expression holds false, the 2nd set of statements are executed"
   ]
  },
  {
   "cell_type": "markdown",
   "id": "797116e6-505b-462d-be74-b263003e8f85",
   "metadata": {
    "slideshow": {
     "slide_type": "slide"
    }
   },
   "source": [
    "### If-else:"
   ]
  },
  {
   "cell_type": "code",
   "execution_count": null,
   "id": "c003a505-3d57-4c0f-b4dd-fcb5b778278f",
   "metadata": {
    "ExecuteTime": {
     "end_time": "2018-08-24T00:12:07.409835Z",
     "start_time": "2018-08-24T00:12:07.406334Z"
    },
    "slideshow": {
     "slide_type": "fragment"
    }
   },
   "outputs": [],
   "source": [
    "x = 5\n",
    "if x>2:\n",
    "    print (\"yes!\")\n",
    "else:\n",
    "    print (\"no!\")"
   ]
  },
  {
   "cell_type": "markdown",
   "id": "2d515a1f-c80f-4e9f-8e39-3e88f345656d",
   "metadata": {
    "slideshow": {
     "slide_type": "fragment"
    }
   },
   "source": [
    "### If-else-if:"
   ]
  },
  {
   "cell_type": "markdown",
   "id": "aab51ee7-6058-4249-a624-ae281d5d5880",
   "metadata": {
    "slideshow": {
     "slide_type": "fragment"
    }
   },
   "source": [
    "* Consists of `if`, followed by a boolean expression, followed by one or more statements;\n",
    "* followed by an `elif`, another boolean expression, and a set of statements\n",
    "* This can be done any number of times\n",
    "* It finally ends with a default `else`\n",
    "* The boolean expressions are evaluated in order;\n",
    "* The first one to hold true results in the execution of that block"
   ]
  },
  {
   "cell_type": "markdown",
   "id": "09b91c49-e0ba-4dda-adff-92bc63a0a3ee",
   "metadata": {
    "slideshow": {
     "slide_type": "slide"
    }
   },
   "source": [
    "### If-else-if:"
   ]
  },
  {
   "cell_type": "code",
   "execution_count": null,
   "id": "cdc0d299-6a01-4509-aa96-9bedccac8bba",
   "metadata": {
    "ExecuteTime": {
     "end_time": "2018-08-24T00:16:09.683111Z",
     "start_time": "2018-08-24T00:16:09.679083Z"
    },
    "slideshow": {
     "slide_type": "fragment"
    }
   },
   "outputs": [],
   "source": [
    "x = 2\n",
    "if x>2:\n",
    "    print (\"Yes!\")\n",
    "elif x<2:\n",
    "    print (\"Maybe!\")\n",
    "else:\n",
    "    print (\"No!\")"
   ]
  },
  {
   "cell_type": "markdown",
   "id": "213f70ee-7be6-4bf3-90a7-6e48f75e03a1",
   "metadata": {
    "slideshow": {
     "slide_type": "slide"
    }
   },
   "source": [
    "### Hands-on 5 exercise\n",
    "\n",
    "**Change the roi based on total amount calculated**\n",
    "\n",
    "* If total > 120, change roi to 15%\n",
    "* Else if total > 110, change roi to 12%\n",
    "* Else change roi to 10%\n",
    "* Print the roi"
   ]
  },
  {
   "cell_type": "code",
   "execution_count": 4,
   "id": "7594fbd5-6856-4ae6-8cec-984f8ecdee3a",
   "metadata": {
    "ExecuteTime": {
     "end_time": "2018-08-23T23:56:57.696025Z",
     "start_time": "2018-08-23T23:56:57.692493Z"
    },
    "slideshow": {
     "slide_type": "slide"
    }
   },
   "outputs": [],
   "source": [
    "# COMPLETE THE CELL BELOW"
   ]
  },
  {
   "cell_type": "markdown",
   "id": "e070fb6f-3dbb-4ab4-ac78-100fa58a50db",
   "metadata": {
    "slideshow": {
     "slide_type": "fragment"
    }
   },
   "source": [
    "## For\n",
    "\n",
    "* Iterative operation\n",
    "* Executes statements within a loop multiple times\n",
    "* A loop counter controls the number of iterations "
   ]
  },
  {
   "cell_type": "markdown",
   "id": "f4fdb1fb-aa2a-42bd-b2d2-2d48da58ae96",
   "metadata": {
    "slideshow": {
     "slide_type": "fragment"
    }
   },
   "source": [
    "### Range\n",
    "\n",
    "* Represents a sequence of numbers\n",
    "* Used for looping a specific number of times in for loops"
   ]
  },
  {
   "cell_type": "code",
   "execution_count": null,
   "id": "79d19767-d869-4b6b-8da1-c1b3c604fed1",
   "metadata": {
    "ExecuteTime": {
     "end_time": "2018-08-24T00:42:36.360666Z",
     "start_time": "2018-08-24T00:42:36.356665Z"
    },
    "slideshow": {
     "slide_type": "fragment"
    }
   },
   "outputs": [],
   "source": [
    "rangelist = range(4) # The upper limit is excluded , and it starts from 0 unless lower limit is mentioned\n",
    "for i in rangelist:\n",
    "    print (i)"
   ]
  },
  {
   "cell_type": "markdown",
   "id": "fa5c8e68-3eda-4028-bb62-803a8dbfd4fb",
   "metadata": {
    "slideshow": {
     "slide_type": "fragment"
    }
   },
   "source": [
    "### Strings\n",
    "\n",
    "* For loop can be used to iterate over every charecter of a string "
   ]
  },
  {
   "cell_type": "code",
   "execution_count": null,
   "id": "2a5a3903-f335-437a-a7a1-3bd0a532d2b4",
   "metadata": {
    "ExecuteTime": {
     "end_time": "2018-08-24T00:29:51.598472Z",
     "start_time": "2018-08-24T00:29:51.594437Z"
    },
    "slideshow": {
     "slide_type": "fragment"
    }
   },
   "outputs": [],
   "source": [
    "for letter in 'Python': \n",
    "   print ('Current Letter :', letter)"
   ]
  },
  {
   "cell_type": "markdown",
   "id": "986b1ee6-2b8f-4953-a1c0-f9acf3f4ab01",
   "metadata": {
    "slideshow": {
     "slide_type": "fragment"
    }
   },
   "source": [
    "### Lists, tuples, Dictionaries\n",
    "\n",
    "* These are Python Data Structures, that we will study in the next class\n",
    "* We can use for to loop through every element of these data structures "
   ]
  },
  {
   "cell_type": "code",
   "execution_count": null,
   "id": "427a2590-830d-4be5-9e26-be30a1ddc3d4",
   "metadata": {
    "ExecuteTime": {
     "end_time": "2018-08-24T00:42:36.360666Z",
     "start_time": "2018-08-24T00:42:36.356665Z"
    },
    "slideshow": {
     "slide_type": "fragment"
    }
   },
   "outputs": [],
   "source": [
    "list_of_names = ['Mehek', 'Ishita', 'Sakshi']\n",
    "for name in list_of_names:\n",
    "    print(name)"
   ]
  },
  {
   "cell_type": "code",
   "execution_count": null,
   "id": "2bb3cb47-2d85-40d5-81f6-b7e390a05a46",
   "metadata": {},
   "outputs": [],
   "source": [
    "capital_dict = {'CA': 'Sacramento', \n",
    "                'CT': 'Hartfort', \n",
    "                'MA': 'Boston'}\n",
    "\n",
    "for state in capital_dict.keys():\n",
    "    print(state, capital_dict[state])"
   ]
  },
  {
   "cell_type": "markdown",
   "id": "363db82f-7835-4eab-a57b-e08097c9a8db",
   "metadata": {
    "slideshow": {
     "slide_type": "fragment"
    }
   },
   "source": [
    "### Nested For Loops\n",
    "\n",
    "* When we use one loop inside another loop\n",
    "* We can use this to print patterns like in the following example"
   ]
  },
  {
   "cell_type": "code",
   "execution_count": null,
   "id": "c9889aca-4291-42e9-85ee-9454fae4f5e0",
   "metadata": {
    "ExecuteTime": {
     "end_time": "2018-08-24T00:42:36.360666Z",
     "start_time": "2018-08-24T00:42:36.356665Z"
    },
    "slideshow": {
     "slide_type": "fragment"
    }
   },
   "outputs": [],
   "source": [
    "n = 5 # We are aiming ot print a right angled triangle of 5 row \n",
    "\n",
    "for i in range(0, n): # outer loop to handle number of rows \n",
    "    for j in range(0, i+1): # inner loop to handle number of columns, values changing acc. to outer loop \n",
    "        print(\"* \", end=\"\") # printing stars, end signifies that we want a space after this statement and not a new line\n",
    "    print(\"\\r\")  # ending line after each row "
   ]
  },
  {
   "cell_type": "markdown",
   "id": "e4e5541d-c5ba-45fc-85f7-16a0c12aad95",
   "metadata": {
    "slideshow": {
     "slide_type": "slide"
    }
   },
   "source": [
    "### Hands-on 6 exercise\n",
    "\n",
    "**Double the roi every year for 5 years**\n",
    "\n",
    "* Given a hypothetical scenario where the bank asks to double the roi every year after 2, until 5 years. Use for loop and the method range and print the roi against the years.\n",
    "* Reinitialize roi to 10 %"
   ]
  },
  {
   "cell_type": "code",
   "execution_count": 3,
   "id": "75285bbf-b8c1-48ad-a5af-f3b2e2ee8861",
   "metadata": {
    "ExecuteTime": {
     "end_time": "2018-08-23T23:56:57.696025Z",
     "start_time": "2018-08-23T23:56:57.692493Z"
    },
    "slideshow": {
     "slide_type": "slide"
    }
   },
   "outputs": [],
   "source": [
    "# COMPLETE THE CELL BELOW"
   ]
  },
  {
   "cell_type": "markdown",
   "id": "eea09ad5-8fe9-43e8-bf2e-788341437215",
   "metadata": {
    "slideshow": {
     "slide_type": "fragment"
    }
   },
   "source": [
    "## While"
   ]
  },
  {
   "cell_type": "markdown",
   "id": "dcb459f3-6c80-49c8-ad39-a527617a6d5a",
   "metadata": {
    "slideshow": {
     "slide_type": "fragment"
    }
   },
   "source": [
    "* Also an iterative operation \n",
    "* Repeats a group of statements while a given condition is TRUE\n",
    "* It tests the condition before executing the loop body\n",
    "* Ued if you want an action to repeat itself until a certain condition is met\n",
    "* Whereas a for loop is used when you want to iterate through an object"
   ]
  },
  {
   "cell_type": "code",
   "execution_count": null,
   "id": "4bee0611-3a07-4382-b5bf-8f8405737dd8",
   "metadata": {
    "ExecuteTime": {
     "end_time": "2018-08-24T00:29:07.567648Z",
     "start_time": "2018-08-24T00:29:07.563123Z"
    },
    "slideshow": {
     "slide_type": "fragment"
    }
   },
   "outputs": [],
   "source": [
    "count = 0\n",
    "while (count < 5):\n",
    "    print('The count is:', count)\n",
    "    count += 1"
   ]
  },
  {
   "cell_type": "markdown",
   "id": "1c60bf0f-55f4-489b-a1fc-5e015b2f93be",
   "metadata": {
    "slideshow": {
     "slide_type": "slide"
    }
   },
   "source": [
    "### Hands-on 7 exercise\n",
    "\n",
    "**Double the roi every year for 5 years**\n",
    "\n",
    "* Given a hypothetical scenario where the bank asks to double the roi every year after 2, until 5 years. Use while loop instead.\n",
    "* Reinitialize roi to 10 %"
   ]
  },
  {
   "cell_type": "code",
   "execution_count": null,
   "id": "5527c6f6-769a-4b15-81a7-c271b5fe7a2d",
   "metadata": {
    "ExecuteTime": {
     "end_time": "2018-08-23T23:56:57.696025Z",
     "start_time": "2018-08-23T23:56:57.692493Z"
    },
    "slideshow": {
     "slide_type": "slide"
    }
   },
   "outputs": [],
   "source": [
    "# COMPLETE THE CELL BELOW"
   ]
  },
  {
   "cell_type": "markdown",
   "id": "55ebe6c0-1bac-492c-84c4-ca4d261cc223",
   "metadata": {
    "slideshow": {
     "slide_type": "fragment"
    }
   },
   "source": [
    "## Break "
   ]
  },
  {
   "cell_type": "markdown",
   "id": "17196897-569c-4ed0-be4a-4f5b6d5e5c56",
   "metadata": {
    "slideshow": {
     "slide_type": "fragment"
    }
   },
   "source": [
    "* Used within a loop\n",
    "* Terminates the loop statement\n",
    "* Transfers execution to the statement immediately following the loop"
   ]
  },
  {
   "cell_type": "code",
   "execution_count": null,
   "id": "bed1d4fd-d610-4787-b57d-76e97965e34f",
   "metadata": {
    "ExecuteTime": {
     "end_time": "2018-08-24T00:36:00.501221Z",
     "start_time": "2018-08-24T00:36:00.496722Z"
    },
    "slideshow": {
     "slide_type": "fragment"
    }
   },
   "outputs": [],
   "source": [
    "for letter in 'Python':\n",
    "    if letter == 'h':\n",
    "        break\n",
    "    print ('Current Letter :', letter) # Breaks from the loop after h\n",
    "print (\"End of loop\")"
   ]
  },
  {
   "cell_type": "markdown",
   "id": "60816cf6-5b22-4758-b5e9-9daadf74c720",
   "metadata": {
    "slideshow": {
     "slide_type": "slide"
    }
   },
   "source": [
    "### Hands-on 8 exercise\n",
    "\n",
    "**Double the roi every year for 5 years until it crosses 50%**\n",
    "\n",
    "* Given a hypothetical scenario where the bank asks to double the roi every year after 2, until 5 years. Use for or while loop\n",
    "* HOWEVER, stop doubling the roi if it touches 50% (HINT - use Break)\n",
    "* Reinitialize roi to 10 %"
   ]
  },
  {
   "cell_type": "code",
   "execution_count": 2,
   "id": "ff2d5375-1c59-4d22-8cda-c40f61b532c8",
   "metadata": {
    "ExecuteTime": {
     "end_time": "2018-08-23T23:56:57.696025Z",
     "start_time": "2018-08-23T23:56:57.692493Z"
    },
    "slideshow": {
     "slide_type": "slide"
    }
   },
   "outputs": [],
   "source": [
    "# COMPLETE THE CELL BELOW"
   ]
  },
  {
   "cell_type": "markdown",
   "id": "fe1f197a-3c66-4d0a-8d21-0b578887420e",
   "metadata": {
    "slideshow": {
     "slide_type": "fragment"
    }
   },
   "source": [
    "## Continue"
   ]
  },
  {
   "cell_type": "markdown",
   "id": "ad0bcd7e-7715-4ed7-a65e-897a08e97d32",
   "metadata": {
    "slideshow": {
     "slide_type": "fragment"
    }
   },
   "source": [
    "* Used within a loop\n",
    "* Causes the loop to skip the current iteration and remainder of its body\n",
    "* Immediately retests its condition and \"continues\""
   ]
  },
  {
   "cell_type": "code",
   "execution_count": null,
   "id": "62cc24fa-ab85-4c50-9cd4-a32d6331ced7",
   "metadata": {
    "ExecuteTime": {
     "end_time": "2018-08-24T00:36:01.370619Z",
     "start_time": "2018-08-24T00:36:01.366082Z"
    },
    "slideshow": {
     "slide_type": "fragment"
    }
   },
   "outputs": [],
   "source": [
    "for letter in 'Python': \n",
    "    if letter == 'h':\n",
    "        continue\n",
    "    print ('Current Letter :', letter) # Skips h and continues"
   ]
  },
  {
   "cell_type": "markdown",
   "id": "46c31ab2-d712-4cca-af09-28159767bb8c",
   "metadata": {
    "slideshow": {
     "slide_type": "slide"
    }
   },
   "source": [
    "### Hands-on 9 exercise\n",
    "\n",
    "**Double the roi every year for 5 years, except if it is between 50-75%**\n",
    "\n",
    "* Given a hypothetical scenario where the bank asks to double the roi every year after 2, until 5 years. Use for or while loop\n",
    "* HOWEVER, stop doubling the roi if it touches 50%, but continue after 75% (HINT - use Continue)\n",
    "* Reinitialize roi to 10 %"
   ]
  },
  {
   "cell_type": "code",
   "execution_count": 5,
   "id": "4f8961e0-32b1-4902-8d86-c00bf6c84154",
   "metadata": {
    "ExecuteTime": {
     "end_time": "2018-08-23T23:56:57.696025Z",
     "start_time": "2018-08-23T23:56:57.692493Z"
    },
    "slideshow": {
     "slide_type": "slide"
    }
   },
   "outputs": [],
   "source": [
    "# COMPLETE THE CELL BELOW"
   ]
  },
  {
   "cell_type": "markdown",
   "id": "ef4bf7eb-c10d-4b24-93ea-69b8d83bc6a2",
   "metadata": {
    "slideshow": {
     "slide_type": "slide"
    }
   },
   "source": [
    "### Hands-on 5 solution "
   ]
  },
  {
   "cell_type": "code",
   "execution_count": null,
   "id": "c255a78c-0af7-455b-bd08-574f35de9561",
   "metadata": {
    "ExecuteTime": {
     "end_time": "2018-08-23T23:56:53.273013Z",
     "start_time": "2018-08-23T23:56:53.269466Z"
    },
    "slideshow": {
     "slide_type": "fragment"
    }
   },
   "outputs": [],
   "source": [
    "if total>120:\n",
    "    roi = 15\n",
    "elif total>110:\n",
    "    roi = 12\n",
    "else:\n",
    "    roi = 10\n",
    "    \n",
    "print (\"New Rate of Interest is: {} %\".format(roi))"
   ]
  },
  {
   "cell_type": "markdown",
   "id": "e52ae3a8-923c-4805-9db0-29ee2edd05b0",
   "metadata": {
    "slideshow": {
     "slide_type": "slide"
    }
   },
   "source": [
    "### Hands-on 6 solution "
   ]
  },
  {
   "cell_type": "code",
   "execution_count": null,
   "id": "c7b247e4-c474-4df5-9643-92ce85226ece",
   "metadata": {
    "ExecuteTime": {
     "end_time": "2018-08-23T23:56:53.273013Z",
     "start_time": "2018-08-23T23:56:53.269466Z"
    },
    "slideshow": {
     "slide_type": "fragment"
    }
   },
   "outputs": [],
   "source": [
    "roi = 10\n",
    "\n",
    "for years in range(3,6):\n",
    "    roi = roi*2\n",
    "    print (\"For numbers of years = {} , Rate of Interest is = {}%\".format(years,roi))"
   ]
  },
  {
   "cell_type": "markdown",
   "id": "19988ddc-a17d-4b01-a7f3-b62aaa0d3a5f",
   "metadata": {
    "slideshow": {
     "slide_type": "slide"
    }
   },
   "source": [
    "### Hands-on 7 solution "
   ]
  },
  {
   "cell_type": "code",
   "execution_count": null,
   "id": "35155e25-c095-43ea-9182-d753d0ee9654",
   "metadata": {
    "ExecuteTime": {
     "end_time": "2018-08-23T23:56:53.273013Z",
     "start_time": "2018-08-23T23:56:53.269466Z"
    },
    "slideshow": {
     "slide_type": "fragment"
    }
   },
   "outputs": [],
   "source": [
    "roi = 10\n",
    "years = 3\n",
    "\n",
    "while years<6:\n",
    "    \n",
    "    roi = roi*2\n",
    "    print (\"For numbers of years = {} , Rate of Interest is = {}%\".format(years,roi))\n",
    "    years += 1"
   ]
  },
  {
   "cell_type": "markdown",
   "id": "89016db0-ed34-4f02-83d2-3c638bef88dc",
   "metadata": {
    "slideshow": {
     "slide_type": "slide"
    }
   },
   "source": [
    "### Hands-on 8 solution "
   ]
  },
  {
   "cell_type": "code",
   "execution_count": null,
   "id": "c23e0e04-2f4a-450f-b194-a786b2f7da72",
   "metadata": {
    "ExecuteTime": {
     "end_time": "2018-08-23T23:56:53.273013Z",
     "start_time": "2018-08-23T23:56:53.269466Z"
    },
    "slideshow": {
     "slide_type": "fragment"
    }
   },
   "outputs": [],
   "source": [
    "roi = 10\n",
    "\n",
    "for years in range(3,6):\n",
    "    roi = roi*2\n",
    "    if roi>50:\n",
    "        break\n",
    "    print (\"For numbers of years = {} , Rate of Interest is = {}%\".format(years,roi))"
   ]
  },
  {
   "cell_type": "markdown",
   "id": "ef747fc0-d3a8-4bbc-aa2b-8685eb3164db",
   "metadata": {
    "slideshow": {
     "slide_type": "slide"
    }
   },
   "source": [
    "### Hands-on 9 solution "
   ]
  },
  {
   "cell_type": "code",
   "execution_count": null,
   "id": "4b89c3a3-1ad0-4f6e-9ed9-1bf59440ecb1",
   "metadata": {
    "ExecuteTime": {
     "end_time": "2018-08-23T23:56:53.273013Z",
     "start_time": "2018-08-23T23:56:53.269466Z"
    },
    "slideshow": {
     "slide_type": "fragment"
    }
   },
   "outputs": [],
   "source": [
    "roi = 10\n",
    "\n",
    "for years in range(3,6):\n",
    "    roi = roi*2\n",
    "    if roi>50 and roi<75:\n",
    "        continue\n",
    "    print (\"For numbers of years = {} , Rate of Interest is = {}%\".format(years,roi))"
   ]
  }
 ],
 "metadata": {
  "kernelspec": {
   "display_name": "Python 3 (ipykernel)",
   "language": "python",
   "name": "python3"
  },
  "language_info": {
   "codemirror_mode": {
    "name": "ipython",
    "version": 3
   },
   "file_extension": ".py",
   "mimetype": "text/x-python",
   "name": "python",
   "nbconvert_exporter": "python",
   "pygments_lexer": "ipython3",
   "version": "3.8.12"
  }
 },
 "nbformat": 4,
 "nbformat_minor": 5
}
